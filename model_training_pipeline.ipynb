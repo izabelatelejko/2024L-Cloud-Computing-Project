{
 "cells": [
  {
   "cell_type": "code",
   "execution_count": 1,
   "metadata": {},
   "outputs": [
    {
     "name": "stderr",
     "output_type": "stream",
     "text": [
      "/tmp/ipykernel_76135/3154842820.py:1: DeprecationWarning: The module `kfp.v2` is deprecated and will be removed in a futureversion. Please import directly from the `kfp` namespace, instead of `kfp.v2`.\n",
      "  from kfp.v2 import dsl\n"
     ]
    }
   ],
   "source": [
    "from kfp.v2 import dsl\n",
    "from kfp.v2.dsl import (Artifact,\n",
    "                        Dataset,\n",
    "                        Input,\n",
    "                        Output,\n",
    "                        Model,\n",
    "                        Metrics,\n",
    "                        Markdown,\n",
    "                        HTML,\n",
    "                        component, \n",
    "                        OutputPath, \n",
    "                        InputPath)\n",
    "\n",
    "from kfp.v2 import compiler\n",
    "from google.cloud.aiplatform import pipeline_jobs, get_pipeline_df, init\n",
    "\n",
    "from src.config.gcp_config import load_config"
   ]
  },
  {
   "cell_type": "code",
   "execution_count": 2,
   "metadata": {},
   "outputs": [],
   "source": [
    "config = load_config().model_dump()"
   ]
  },
  {
   "cell_type": "code",
   "execution_count": 8,
   "metadata": {},
   "outputs": [
    {
     "name": "stderr",
     "output_type": "stream",
     "text": [
      "/tmp/ipykernel_76135/2763040156.py:1: DeprecationWarning: output_component_file parameter is deprecated and will eventually be removed. Please use `Compiler().compile()` to compile a component instead.\n",
      "  @component(\n",
      "/tmp/ipykernel_76135/2763040156.py:5: DeprecationWarning: output_component_file parameter is deprecated and will eventually be removed. Please use `Compiler().compile()` to compile a component instead.\n",
      "  def get_and_process_data(config: dict, output_data_path: OutputPath(\"Dataset\")):\n"
     ]
    }
   ],
   "source": [
    "@component(\n",
    "    base_image=config[\"base_image\"],\n",
    "    output_component_file=\"get_and_process_data.yaml\"\n",
    ")\n",
    "def get_and_process_data(config: dict, output_data_path: OutputPath(\"Dataset\"), model_training_date: Output[Artifact]):\n",
    "    from google.cloud import bigquery\n",
    "    from src.pipelines.utils import preprocess_data\n",
    "    from datetime import datetime\n",
    "    import tempfile\n",
    "    import pickle\n",
    "    from google.cloud import storage\n",
    "    \n",
    "    bq_client = bigquery.Client(location=config[\"region\"], project=config[\"gcp_project_id\"])\n",
    "    query = f'SELECT * FROM `{config[\"main_table_id\"]}`'\n",
    "    df = bq_client.query(query).to_dataframe()\n",
    "    \n",
    "    model_training_date  = datetime.now().strftime(\"%d-%m-%Y:%H%M\")\n",
    "\n",
    "    X_processed, training_features = preprocess_data(df=df, target_column_name=\"pokemonId\")\n",
    "    X_processed.to_csv(output_data_path)\n",
    "\n",
    "    with tempfile.NamedTemporaryFile() as tmp_pickle:\n",
    "        pickle.dump(training_features, tmp_pickle)\n",
    "        storage_client = storage.Client(project=config[\"gcp_project_id\"])\n",
    "        bucket = storage_client.bucket(config[\"gcp_bucket\"])\n",
    "        upload_blob = bucket.blob(f\"models/{model_training_date}/preprocess_features\")\n",
    "        upload_blob.upload_from_file(tmp_pickle, rewind=True)"
   ]
  },
  {
   "cell_type": "code",
   "execution_count": 28,
   "metadata": {},
   "outputs": [
    {
     "name": "stderr",
     "output_type": "stream",
     "text": [
      "/tmp/ipykernel_76135/212735247.py:1: DeprecationWarning: output_component_file parameter is deprecated and will eventually be removed. Please use `Compiler().compile()` to compile a component instead.\n",
      "  @component(\n",
      "/tmp/ipykernel_76135/212735247.py:6: DeprecationWarning: output_component_file parameter is deprecated and will eventually be removed. Please use `Compiler().compile()` to compile a component instead.\n",
      "  def train_model(config: dict,\n"
     ]
    }
   ],
   "source": [
    "@component(\n",
    "    base_image=config[\"base_image\"],\n",
    "    install_kfp_package=False,\n",
    "    output_component_file=\"train_model.yaml\",\n",
    ")\n",
    "def train_model(config: dict,\n",
    "                dataset: Input[Dataset],\n",
    "                model_training_date: Input[Artifact],\n",
    "                metrics: Output[Metrics]):\n",
    "    import pandas as pd\n",
    "    import pickle\n",
    "    import tempfile\n",
    "    from google.cloud import storage\n",
    "    from datetime import datetime\n",
    "    from sklearn.metrics import accuracy_score\n",
    "\n",
    "    from src.pipelines.utils import model_train\n",
    "\n",
    "    X_processed = pd.read_csv(dataset.path)\n",
    "    \n",
    "    model = model_train(X_processed=X_processed, target_column_name=\"pokemonId\")\n",
    "\n",
    "    # log accuracy\n",
    "    result = accuracy_score(model.predict(X_processed.drop(\"pokemonId\", axis=1)), X_processed[\"pokemonId\"])\n",
    "    metrics.log_metric(\"accuracy\", (result * 100.0))\n",
    "\n",
    "    with tempfile.NamedTemporaryFile() as tmp_pickle:\n",
    "        pickle.dump(model, tmp_pickle)\n",
    "        storage_client = storage.Client(project=config[\"gcp_project_id\"])\n",
    "        bucket = storage_client.bucket(config[\"gcp_bucket\"])\n",
    "        upload_blob = bucket.blob(f\"models/{model_training_date}/model\")\n",
    "        upload_blob.upload_from_file(tmp_pickle, rewind=True)\n"
   ]
  },
  {
   "cell_type": "code",
   "execution_count": 29,
   "metadata": {},
   "outputs": [],
   "source": [
    "@dsl.pipeline(\n",
    "    pipeline_root=config[\"pipeline_root\"],\n",
    "    name=\"train-model\"   \n",
    ")\n",
    "def pipeline():\n",
    "    data_prep = get_and_process_data(config=config).set_display_name('Load and preprocess')\n",
    "    model_training = train_model(\n",
    "        config=config, \n",
    "        dataset=data_prep.outputs[\"output_data_path\"],\n",
    "        model_training_date=data_prep.outputs[\"model_training_date\"]\n",
    "    ).after(data_prep).set_display_name('Model training')"
   ]
  },
  {
   "cell_type": "code",
   "execution_count": 30,
   "metadata": {},
   "outputs": [],
   "source": [
    "compiler.Compiler().compile(pipeline_func=pipeline,\n",
    "        package_path='model_training_pipeline.json')"
   ]
  },
  {
   "cell_type": "code",
   "execution_count": 31,
   "metadata": {},
   "outputs": [],
   "source": [
    "start_pipeline = pipeline_jobs.PipelineJob(\n",
    "    display_name=\"cc-project-pipeline\",\n",
    "    template_path=\"model_training_pipeline.json\",\n",
    "    enable_caching=False,\n",
    "    location=config[\"region\"],\n",
    ")"
   ]
  },
  {
   "cell_type": "code",
   "execution_count": 32,
   "metadata": {},
   "outputs": [
    {
     "name": "stdout",
     "output_type": "stream",
     "text": [
      "Creating PipelineJob\n",
      "PipelineJob created. Resource name: projects/33891971032/locations/europe-west3/pipelineJobs/train-model-20240408185455\n",
      "To use this PipelineJob in another session:\n",
      "pipeline_job = aiplatform.PipelineJob.get('projects/33891971032/locations/europe-west3/pipelineJobs/train-model-20240408185455')\n",
      "View Pipeline Job:\n",
      "https://console.cloud.google.com/vertex-ai/locations/europe-west3/pipelines/runs/train-model-20240408185455?project=33891971032\n",
      "PipelineJob projects/33891971032/locations/europe-west3/pipelineJobs/train-model-20240408185455 current state:\n",
      "PipelineState.PIPELINE_STATE_RUNNING\n",
      "PipelineJob projects/33891971032/locations/europe-west3/pipelineJobs/train-model-20240408185455 current state:\n",
      "PipelineState.PIPELINE_STATE_RUNNING\n",
      "PipelineJob projects/33891971032/locations/europe-west3/pipelineJobs/train-model-20240408185455 current state:\n",
      "PipelineState.PIPELINE_STATE_RUNNING\n",
      "PipelineJob projects/33891971032/locations/europe-west3/pipelineJobs/train-model-20240408185455 current state:\n",
      "PipelineState.PIPELINE_STATE_RUNNING\n",
      "PipelineJob projects/33891971032/locations/europe-west3/pipelineJobs/train-model-20240408185455 current state:\n",
      "PipelineState.PIPELINE_STATE_RUNNING\n",
      "PipelineJob run completed. Resource name: projects/33891971032/locations/europe-west3/pipelineJobs/train-model-20240408185455\n"
     ]
    }
   ],
   "source": [
    "start_pipeline.run()"
   ]
  },
  {
   "cell_type": "code",
   "execution_count": 34,
   "metadata": {},
   "outputs": [
    {
     "data": {
      "text/html": [
       "<div>\n",
       "<style scoped>\n",
       "    .dataframe tbody tr th:only-of-type {\n",
       "        vertical-align: middle;\n",
       "    }\n",
       "\n",
       "    .dataframe tbody tr th {\n",
       "        vertical-align: top;\n",
       "    }\n",
       "\n",
       "    .dataframe thead th {\n",
       "        text-align: right;\n",
       "    }\n",
       "</style>\n",
       "<table border=\"1\" class=\"dataframe\">\n",
       "  <thead>\n",
       "    <tr style=\"text-align: right;\">\n",
       "      <th></th>\n",
       "      <th>pipeline_name</th>\n",
       "      <th>run_name</th>\n",
       "      <th>param.vmlmd_lineage_integration</th>\n",
       "      <th>param.vertex-ai-pipelines-artifact-argument-binding</th>\n",
       "      <th>metric.accuracy</th>\n",
       "    </tr>\n",
       "  </thead>\n",
       "  <tbody>\n",
       "    <tr>\n",
       "      <th>0</th>\n",
       "      <td>train-model</td>\n",
       "      <td>train-model-20240408185455</td>\n",
       "      <td>{'pipeline_run_component': {'parent_task_names...</td>\n",
       "      <td>{'output:train-model-metrics': ['projects/3389...</td>\n",
       "      <td>0.923982</td>\n",
       "    </tr>\n",
       "    <tr>\n",
       "      <th>1</th>\n",
       "      <td>train-model</td>\n",
       "      <td>train-model-20240408185104</td>\n",
       "      <td>{'pipeline_run_component': {'parent_task_names...</td>\n",
       "      <td>NaN</td>\n",
       "      <td>NaN</td>\n",
       "    </tr>\n",
       "    <tr>\n",
       "      <th>2</th>\n",
       "      <td>train-model</td>\n",
       "      <td>train-model-20240408184607</td>\n",
       "      <td>{'pipeline_run_component': {'parent_task_names...</td>\n",
       "      <td>NaN</td>\n",
       "      <td>NaN</td>\n",
       "    </tr>\n",
       "    <tr>\n",
       "      <th>3</th>\n",
       "      <td>train-model</td>\n",
       "      <td>train-model-20240408183946</td>\n",
       "      <td>{'pipeline_run_component': {'location_id': 'eu...</td>\n",
       "      <td>NaN</td>\n",
       "      <td>NaN</td>\n",
       "    </tr>\n",
       "    <tr>\n",
       "      <th>4</th>\n",
       "      <td>train-model</td>\n",
       "      <td>train-model-20240408182413</td>\n",
       "      <td>{'pipeline_run_component': {'parent_task_names...</td>\n",
       "      <td>NaN</td>\n",
       "      <td>NaN</td>\n",
       "    </tr>\n",
       "    <tr>\n",
       "      <th>5</th>\n",
       "      <td>train-model</td>\n",
       "      <td>train-model-20240407163619</td>\n",
       "      <td>{'pipeline_run_component': {'location_id': 'eu...</td>\n",
       "      <td>{'output:train-model-metrics': ['projects/3389...</td>\n",
       "      <td>70.462742</td>\n",
       "    </tr>\n",
       "    <tr>\n",
       "      <th>6</th>\n",
       "      <td>train-model</td>\n",
       "      <td>train-model-20240407163150</td>\n",
       "      <td>{'pipeline_run_component': {'parent_task_names...</td>\n",
       "      <td>NaN</td>\n",
       "      <td>NaN</td>\n",
       "    </tr>\n",
       "  </tbody>\n",
       "</table>\n",
       "</div>"
      ],
      "text/plain": [
       "  pipeline_name                    run_name  \\\n",
       "0   train-model  train-model-20240408185455   \n",
       "1   train-model  train-model-20240408185104   \n",
       "2   train-model  train-model-20240408184607   \n",
       "3   train-model  train-model-20240408183946   \n",
       "4   train-model  train-model-20240408182413   \n",
       "5   train-model  train-model-20240407163619   \n",
       "6   train-model  train-model-20240407163150   \n",
       "\n",
       "                     param.vmlmd_lineage_integration  \\\n",
       "0  {'pipeline_run_component': {'parent_task_names...   \n",
       "1  {'pipeline_run_component': {'parent_task_names...   \n",
       "2  {'pipeline_run_component': {'parent_task_names...   \n",
       "3  {'pipeline_run_component': {'location_id': 'eu...   \n",
       "4  {'pipeline_run_component': {'parent_task_names...   \n",
       "5  {'pipeline_run_component': {'location_id': 'eu...   \n",
       "6  {'pipeline_run_component': {'parent_task_names...   \n",
       "\n",
       "  param.vertex-ai-pipelines-artifact-argument-binding  metric.accuracy  \n",
       "0  {'output:train-model-metrics': ['projects/3389...          0.923982  \n",
       "1                                                NaN               NaN  \n",
       "2                                                NaN               NaN  \n",
       "3                                                NaN               NaN  \n",
       "4                                                NaN               NaN  \n",
       "5  {'output:train-model-metrics': ['projects/3389...         70.462742  \n",
       "6                                                NaN               NaN  "
      ]
     },
     "execution_count": 34,
     "metadata": {},
     "output_type": "execute_result"
    }
   ],
   "source": [
    "init(project=config[\"gcp_project_id\"], location=config[\"region\"])\n",
    "pipeline_df = get_pipeline_df(pipeline=\"train-model\")\n",
    "pipeline_df"
   ]
  }
 ],
 "metadata": {
  "kernelspec": {
   "display_name": "Python 3",
   "language": "python",
   "name": "python3"
  },
  "language_info": {
   "codemirror_mode": {
    "name": "ipython",
    "version": 3
   },
   "file_extension": ".py",
   "mimetype": "text/x-python",
   "name": "python",
   "nbconvert_exporter": "python",
   "pygments_lexer": "ipython3",
   "version": "3.10.10"
  }
 },
 "nbformat": 4,
 "nbformat_minor": 2
}
