{
 "cells": [
  {
   "cell_type": "code",
   "execution_count": 2,
   "metadata": {},
   "outputs": [],
   "source": [
    "from kfp.v2 import dsl\n",
    "from kfp.v2.dsl import (Artifact,\n",
    "                        Dataset,\n",
    "                        Input,\n",
    "                        Output,\n",
    "                        Model,\n",
    "                        Metrics,\n",
    "                        Markdown,\n",
    "                        HTML,\n",
    "                        component, \n",
    "                        OutputPath, \n",
    "                        InputPath)\n",
    "\n",
    "from kfp.v2 import compiler\n",
    "from google.cloud.aiplatform import pipeline_jobs\n",
    "import pandas as pd"
   ]
  },
  {
   "cell_type": "code",
   "execution_count": 54,
   "metadata": {},
   "outputs": [],
   "source": [
    "PROJECT_ID = \"cloud-computing-project-418718\"\n",
    "REGION = 'europe-west3'\n",
    "BUCKET_NAME=\"gs://houseprice\"\n",
    "PIPELINE_ROOT = f\"{BUCKET_NAME}/pipeline_root/\""
   ]
  },
  {
   "cell_type": "code",
   "execution_count": 55,
   "metadata": {},
   "outputs": [],
   "source": [
    "# Custom base image created using docker\n",
    "IMAGE_NAME = \"training\"\n",
    "BASE_IMAGE = f\"{REGION}-docker.pkg.dev/{PROJECT_ID}/houseprice/{IMAGE_NAME}\""
   ]
  },
  {
   "cell_type": "code",
   "execution_count": 56,
   "metadata": {},
   "outputs": [
    {
     "name": "stderr",
     "output_type": "stream",
     "text": [
      "/tmp/ipykernel_49039/2125411088.py:1: DeprecationWarning: output_component_file parameter is deprecated and will eventually be removed. Please use `Compiler().compile()` to compile a component instead.\n",
      "  @component(\n",
      "/tmp/ipykernel_49039/2125411088.py:5: DeprecationWarning: output_component_file parameter is deprecated and will eventually be removed. Please use `Compiler().compile()` to compile a component instead.\n",
      "  def get_test_data(\n"
     ]
    }
   ],
   "source": [
    "@component(\n",
    "    base_image=BASE_IMAGE,\n",
    "    output_component_file=\"get_and_process_data.yaml\"\n",
    ")\n",
    "def get_and_process_data(\n",
    "    filepath: str,\n",
    "    X_processed: Output[Dataset],\n",
    "):\n",
    "    \n",
    "    import pandas as pd\n",
    "    from src.utils import remove_highly_correlated_features, remove_constant_features, standarise_float_columns, normalise_int_columns\n",
    "    \n",
    "    df = pd.read_csv(filepath + '/ecom-user-churn-data.csv')\n",
    "   \n",
    "    y = df['target_class']\n",
    "    X = df.drop(columns=['target_class'])\n",
    "\n",
    "    X_processed = X.drop(remove_highly_correlated_features(df, threshold=0.7), axis=1)\n",
    "    X_processed = X_processed.drop(['visitorid'], axis=1)\n",
    "    X_processed = X_processed.drop(remove_constant_features(X_processed), axis=1)\n",
    "    X_processed = standarise_float_columns(X_processed)\n",
    "    X_processed = normalise_int_columns(X_processed)\n",
    "    \n",
    "    X_processed.to_csv(X_processed.path, index=False)"
   ]
  },
  {
   "cell_type": "code",
   "execution_count": 57,
   "metadata": {},
   "outputs": [
    {
     "name": "stderr",
     "output_type": "stream",
     "text": [
      "/tmp/ipykernel_49039/2690065538.py:1: DeprecationWarning: output_component_file parameter is deprecated and will eventually be removed. Please use `Compiler().compile()` to compile a component instead.\n",
      "  @component(\n",
      "/tmp/ipykernel_49039/2690065538.py:6: DeprecationWarning: output_component_file parameter is deprecated and will eventually be removed. Please use `Compiler().compile()` to compile a component instead.\n",
      "  def save_file(\n"
     ]
    }
   ],
   "source": [
    "@component(\n",
    "    base_image=BASE_IMAGE,\n",
    "    install_kfp_package=False,\n",
    "    output_component_file=\"train_model.yaml\",\n",
    ")\n",
    "def train_model(\n",
    "        out_filepath: str,\n",
    "        X_processed: Input[pd.DataFrame],\n",
    "):\n",
    "\n",
    "    from sklearn.ensemble import RandomForestClassifier\n",
    "    import pickle\n",
    "    import tempfile\n",
    "\n",
    "    y = X_processed['target_class']\n",
    "    X = X_processed.drop(columns=['target_class'])\n",
    "\n",
    "    clf = RandomForestClassifier(max_depth=10, random_state=1307, n_estimators=100, class_weight='balanced')\n",
    "    clf.fit(X, y)\n",
    "    with tempfile.NamedTemporaryFile(suffix='.pkl', delete=False) as tmp:\n",
    "        pickle.dump(clf, tmp)\n",
    "\n",
    "    with open(out_filepath + '/model.pkl', 'wb') as f:\n",
    "        f.write(tmp.read())\n",
    "\n",
    "    tmp.close()\n",
    "    f.close()\n"
   ]
  },
  {
   "cell_type": "code",
   "execution_count": 59,
   "metadata": {},
   "outputs": [],
   "source": [
    "@dsl.pipeline(\n",
    "    pipeline_root=PIPELINE_ROOT,\n",
    "    name=\"pipeline-big-data-project\"   \n",
    ")\n",
    "\n",
    "def pipeline(\n",
    "    data_filepath: str = f\"{BUCKET_NAME}/data\",\n",
    "    out_filepath: str = f\"{BUCKET_NAME}/out\", \n",
    "):\n",
    "\n",
    "    data_prep = get_and_process_data(filepath=data_filepath)\n",
    "    model_training = train_model(out_filepath=out_filepath, X_processed= data_prep.outputs[\"X_processed\"])"
   ]
  },
  {
   "cell_type": "code",
   "execution_count": 60,
   "metadata": {},
   "outputs": [],
   "source": [
    "compiler.Compiler().compile(pipeline_func=pipeline,\n",
    "        package_path='model_training_pipeline.json')"
   ]
  },
  {
   "cell_type": "code",
   "execution_count": 61,
   "metadata": {},
   "outputs": [],
   "source": [
    "start_pipeline = pipeline_jobs.PipelineJob(\n",
    "    display_name=\"cc-project-pipeline\",\n",
    "    template_path=\"model_training_pipeline.json\",\n",
    "    enable_caching=False,\n",
    "    location=REGION,\n",
    ")"
   ]
  },
  {
   "cell_type": "code",
   "execution_count": 62,
   "metadata": {},
   "outputs": [
    {
     "name": "stdout",
     "output_type": "stream",
     "text": [
      "Creating PipelineJob\n",
      "PipelineJob created. Resource name: projects/502842367035/locations/europe-west3/pipelineJobs/pipeline-houseprice-20240328212516\n",
      "To use this PipelineJob in another session:\n",
      "pipeline_job = aiplatform.PipelineJob.get('projects/502842367035/locations/europe-west3/pipelineJobs/pipeline-houseprice-20240328212516')\n",
      "View Pipeline Job:\n",
      "https://console.cloud.google.com/vertex-ai/locations/europe-west3/pipelines/runs/pipeline-houseprice-20240328212516?project=502842367035\n",
      "PipelineJob projects/502842367035/locations/europe-west3/pipelineJobs/pipeline-houseprice-20240328212516 current state:\n",
      "PipelineState.PIPELINE_STATE_RUNNING\n",
      "PipelineJob projects/502842367035/locations/europe-west3/pipelineJobs/pipeline-houseprice-20240328212516 current state:\n",
      "PipelineState.PIPELINE_STATE_RUNNING\n",
      "PipelineJob projects/502842367035/locations/europe-west3/pipelineJobs/pipeline-houseprice-20240328212516 current state:\n",
      "PipelineState.PIPELINE_STATE_RUNNING\n",
      "PipelineJob run completed. Resource name: projects/502842367035/locations/europe-west3/pipelineJobs/pipeline-houseprice-20240328212516\n"
     ]
    }
   ],
   "source": [
    "start_pipeline.run()"
   ]
  }
 ],
 "metadata": {
  "kernelspec": {
   "display_name": "Python 3",
   "language": "python",
   "name": "python3"
  },
  "language_info": {
   "codemirror_mode": {
    "name": "ipython",
    "version": 3
   },
   "file_extension": ".py",
   "mimetype": "text/x-python",
   "name": "python",
   "nbconvert_exporter": "python",
   "pygments_lexer": "ipython3",
   "version": "3.11.2"
  }
 },
 "nbformat": 4,
 "nbformat_minor": 2
}
