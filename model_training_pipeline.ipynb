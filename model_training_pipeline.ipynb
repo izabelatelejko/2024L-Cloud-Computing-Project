{
 "cells": [
  {
   "cell_type": "code",
   "execution_count": 1,
   "metadata": {},
   "outputs": [
    {
     "name": "stderr",
     "output_type": "stream",
     "text": [
      "/tmp/ipykernel_95484/1823499835.py:1: DeprecationWarning: The module `kfp.v2` is deprecated and will be removed in a futureversion. Please import directly from the `kfp` namespace, instead of `kfp.v2`.\n",
      "  from kfp.v2 import dsl\n"
     ]
    }
   ],
   "source": [
    "from kfp.v2 import dsl\n",
    "from kfp.v2.dsl import (Artifact,\n",
    "                        Dataset,\n",
    "                        Input,\n",
    "                        Output,\n",
    "                        Model,\n",
    "                        Metrics,\n",
    "                        Markdown,\n",
    "                        HTML,\n",
    "                        component, \n",
    "                        OutputPath, \n",
    "                        InputPath)\n",
    "\n",
    "from kfp.v2 import compiler\n",
    "from google.cloud.aiplatform import pipeline_jobs\n",
    "\n",
    "from src.config.gcp_config import load_config"
   ]
  },
  {
   "cell_type": "code",
   "execution_count": 2,
   "metadata": {},
   "outputs": [],
   "source": [
    "config = load_config()"
   ]
  },
  {
   "cell_type": "code",
   "execution_count": 3,
   "metadata": {},
   "outputs": [
    {
     "name": "stderr",
     "output_type": "stream",
     "text": [
      "/tmp/ipykernel_95484/1507862959.py:1: DeprecationWarning: output_component_file parameter is deprecated and will eventually be removed. Please use `Compiler().compile()` to compile a component instead.\n",
      "  @component(\n",
      "/tmp/ipykernel_95484/1507862959.py:5: DeprecationWarning: output_component_file parameter is deprecated and will eventually be removed. Please use `Compiler().compile()` to compile a component instead.\n",
      "  def get_and_process_data(stg_table_id: OutputPath('str')):\n"
     ]
    },
    {
     "ename": "TypeError",
     "evalue": "Artifacts must have both a schema_title and a schema_version, separated by `@`. Got: str",
     "output_type": "error",
     "traceback": [
      "\u001b[0;31m---------------------------------------------------------------------------\u001b[0m",
      "\u001b[0;31mTypeError\u001b[0m                                 Traceback (most recent call last)",
      "Cell \u001b[0;32mIn[3], line 5\u001b[0m\n\u001b[1;32m      1\u001b[0m \u001b[38;5;129;43m@component\u001b[39;49m\u001b[43m(\u001b[49m\n\u001b[1;32m      2\u001b[0m \u001b[43m    \u001b[49m\u001b[43mbase_image\u001b[49m\u001b[38;5;241;43m=\u001b[39;49m\u001b[43mconfig\u001b[49m\u001b[38;5;241;43m.\u001b[39;49m\u001b[43mbase_image\u001b[49m\u001b[43m,\u001b[49m\n\u001b[1;32m      3\u001b[0m \u001b[43m    \u001b[49m\u001b[43moutput_component_file\u001b[49m\u001b[38;5;241;43m=\u001b[39;49m\u001b[38;5;124;43m\"\u001b[39;49m\u001b[38;5;124;43mget_and_process_data.yaml\u001b[39;49m\u001b[38;5;124;43m\"\u001b[39;49m\n\u001b[1;32m      4\u001b[0m \u001b[43m)\u001b[49m\n\u001b[0;32m----> 5\u001b[0m \u001b[38;5;28;43;01mdef\u001b[39;49;00m\u001b[43m \u001b[49m\u001b[38;5;21;43mget_and_process_data\u001b[39;49m\u001b[43m(\u001b[49m\u001b[43mstg_table_id\u001b[49m\u001b[43m:\u001b[49m\u001b[43m \u001b[49m\u001b[43mOutputPath\u001b[49m\u001b[43m(\u001b[49m\u001b[38;5;124;43m'\u001b[39;49m\u001b[38;5;124;43mstr\u001b[39;49m\u001b[38;5;124;43m'\u001b[39;49m\u001b[43m)\u001b[49m\u001b[43m)\u001b[49m\u001b[43m:\u001b[49m\n\u001b[1;32m      7\u001b[0m \u001b[43m    \u001b[49m\u001b[38;5;28;43;01mfrom\u001b[39;49;00m\u001b[43m \u001b[49m\u001b[38;5;21;43;01msrc\u001b[39;49;00m\u001b[38;5;21;43;01m.\u001b[39;49;00m\u001b[38;5;21;43;01mpipelines\u001b[39;49;00m\u001b[38;5;21;43;01m.\u001b[39;49;00m\u001b[38;5;21;43;01mutils\u001b[39;49;00m\u001b[43m \u001b[49m\u001b[38;5;28;43;01mimport\u001b[39;49;00m\u001b[43m \u001b[49m\u001b[43m(\u001b[49m\n\u001b[1;32m      8\u001b[0m \u001b[43m        \u001b[49m\u001b[43mcreate_table_from_df\u001b[49m\u001b[43m,\u001b[49m\n\u001b[1;32m      9\u001b[0m \u001b[43m        \u001b[49m\u001b[43mpreprocess_data\u001b[49m\n\u001b[1;32m     10\u001b[0m \u001b[43m    \u001b[49m\u001b[43m)\u001b[49m\n\u001b[1;32m     11\u001b[0m \u001b[43m    \u001b[49m\u001b[38;5;28;43;01mfrom\u001b[39;49;00m\u001b[43m \u001b[49m\u001b[38;5;21;43;01mgoogle\u001b[39;49;00m\u001b[38;5;21;43;01m.\u001b[39;49;00m\u001b[38;5;21;43;01mcloud\u001b[39;49;00m\u001b[43m \u001b[49m\u001b[38;5;28;43;01mimport\u001b[39;49;00m\u001b[43m \u001b[49m\u001b[43mbigquery\u001b[49m\n",
      "File \u001b[0;32m~/.local/lib/python3.10/site-packages/kfp/dsl/component_decorator.py:119\u001b[0m, in \u001b[0;36mcomponent\u001b[0;34m(func, base_image, target_image, packages_to_install, pip_index_urls, output_component_file, install_kfp_package, kfp_package_path)\u001b[0m\n\u001b[1;32m    108\u001b[0m \u001b[38;5;28;01mif\u001b[39;00m func \u001b[38;5;129;01mis\u001b[39;00m \u001b[38;5;28;01mNone\u001b[39;00m:\n\u001b[1;32m    109\u001b[0m     \u001b[38;5;28;01mreturn\u001b[39;00m functools\u001b[38;5;241m.\u001b[39mpartial(\n\u001b[1;32m    110\u001b[0m         component,\n\u001b[1;32m    111\u001b[0m         base_image\u001b[38;5;241m=\u001b[39mbase_image,\n\u001b[0;32m   (...)\u001b[0m\n\u001b[1;32m    116\u001b[0m         install_kfp_package\u001b[38;5;241m=\u001b[39minstall_kfp_package,\n\u001b[1;32m    117\u001b[0m         kfp_package_path\u001b[38;5;241m=\u001b[39mkfp_package_path)\n\u001b[0;32m--> 119\u001b[0m \u001b[38;5;28;01mreturn\u001b[39;00m \u001b[43mcomponent_factory\u001b[49m\u001b[38;5;241;43m.\u001b[39;49m\u001b[43mcreate_component_from_func\u001b[49m\u001b[43m(\u001b[49m\n\u001b[1;32m    120\u001b[0m \u001b[43m    \u001b[49m\u001b[43mfunc\u001b[49m\u001b[43m,\u001b[49m\n\u001b[1;32m    121\u001b[0m \u001b[43m    \u001b[49m\u001b[43mbase_image\u001b[49m\u001b[38;5;241;43m=\u001b[39;49m\u001b[43mbase_image\u001b[49m\u001b[43m,\u001b[49m\n\u001b[1;32m    122\u001b[0m \u001b[43m    \u001b[49m\u001b[43mtarget_image\u001b[49m\u001b[38;5;241;43m=\u001b[39;49m\u001b[43mtarget_image\u001b[49m\u001b[43m,\u001b[49m\n\u001b[1;32m    123\u001b[0m \u001b[43m    \u001b[49m\u001b[43mpackages_to_install\u001b[49m\u001b[38;5;241;43m=\u001b[39;49m\u001b[43mpackages_to_install\u001b[49m\u001b[43m,\u001b[49m\n\u001b[1;32m    124\u001b[0m \u001b[43m    \u001b[49m\u001b[43mpip_index_urls\u001b[49m\u001b[38;5;241;43m=\u001b[39;49m\u001b[43mpip_index_urls\u001b[49m\u001b[43m,\u001b[49m\n\u001b[1;32m    125\u001b[0m \u001b[43m    \u001b[49m\u001b[43moutput_component_file\u001b[49m\u001b[38;5;241;43m=\u001b[39;49m\u001b[43moutput_component_file\u001b[49m\u001b[43m,\u001b[49m\n\u001b[1;32m    126\u001b[0m \u001b[43m    \u001b[49m\u001b[43minstall_kfp_package\u001b[49m\u001b[38;5;241;43m=\u001b[39;49m\u001b[43minstall_kfp_package\u001b[49m\u001b[43m,\u001b[49m\n\u001b[1;32m    127\u001b[0m \u001b[43m    \u001b[49m\u001b[43mkfp_package_path\u001b[49m\u001b[38;5;241;43m=\u001b[39;49m\u001b[43mkfp_package_path\u001b[49m\u001b[43m)\u001b[49m\n",
      "File \u001b[0;32m~/.local/lib/python3.10/site-packages/kfp/dsl/component_factory.py:556\u001b[0m, in \u001b[0;36mcreate_component_from_func\u001b[0;34m(func, base_image, target_image, packages_to_install, pip_index_urls, output_component_file, install_kfp_package, kfp_package_path)\u001b[0m\n\u001b[1;32m    552\u001b[0m \u001b[38;5;28;01melse\u001b[39;00m:\n\u001b[1;32m    553\u001b[0m     command, args \u001b[38;5;241m=\u001b[39m _get_command_and_args_for_lightweight_component(\n\u001b[1;32m    554\u001b[0m         func\u001b[38;5;241m=\u001b[39mfunc)\n\u001b[0;32m--> 556\u001b[0m component_spec \u001b[38;5;241m=\u001b[39m \u001b[43mextract_component_interface\u001b[49m\u001b[43m(\u001b[49m\u001b[43mfunc\u001b[49m\u001b[43m)\u001b[49m\n\u001b[1;32m    557\u001b[0m component_spec\u001b[38;5;241m.\u001b[39mimplementation \u001b[38;5;241m=\u001b[39m structures\u001b[38;5;241m.\u001b[39mImplementation(\n\u001b[1;32m    558\u001b[0m     container\u001b[38;5;241m=\u001b[39mstructures\u001b[38;5;241m.\u001b[39mContainerSpecImplementation(\n\u001b[1;32m    559\u001b[0m         image\u001b[38;5;241m=\u001b[39mcomponent_image,\n\u001b[1;32m    560\u001b[0m         command\u001b[38;5;241m=\u001b[39mpackages_to_install_command \u001b[38;5;241m+\u001b[39m command,\n\u001b[1;32m    561\u001b[0m         args\u001b[38;5;241m=\u001b[39margs,\n\u001b[1;32m    562\u001b[0m     ))\n\u001b[1;32m    564\u001b[0m module_path \u001b[38;5;241m=\u001b[39m pathlib\u001b[38;5;241m.\u001b[39mPath(inspect\u001b[38;5;241m.\u001b[39mgetsourcefile(func))\n",
      "File \u001b[0;32m~/.local/lib/python3.10/site-packages/kfp/dsl/component_factory.py:422\u001b[0m, in \u001b[0;36mextract_component_interface\u001b[0;34m(func, containerized, description, name)\u001b[0m\n\u001b[1;32m    419\u001b[0m     \u001b[38;5;28;01mreturn\u001b[39;00m \u001b[38;5;28;01mNone\u001b[39;00m\n\u001b[1;32m    421\u001b[0m signature \u001b[38;5;241m=\u001b[39m inspect\u001b[38;5;241m.\u001b[39msignature(func)\n\u001b[0;32m--> 422\u001b[0m name_to_input_spec, name_to_output_spec \u001b[38;5;241m=\u001b[39m \u001b[43mget_name_to_specs\u001b[49m\u001b[43m(\u001b[49m\n\u001b[1;32m    423\u001b[0m \u001b[43m    \u001b[49m\u001b[43msignature\u001b[49m\u001b[43m,\u001b[49m\u001b[43m \u001b[49m\u001b[43mcontainerized\u001b[49m\u001b[43m)\u001b[49m\n\u001b[1;32m    424\u001b[0m original_docstring \u001b[38;5;241m=\u001b[39m inspect\u001b[38;5;241m.\u001b[39mgetdoc(func)\n\u001b[1;32m    425\u001b[0m parsed_docstring \u001b[38;5;241m=\u001b[39m docstring_parser\u001b[38;5;241m.\u001b[39mparse(original_docstring)\n",
      "File \u001b[0;32m~/.local/lib/python3.10/site-packages/kfp/dsl/component_factory.py:267\u001b[0m, in \u001b[0;36mget_name_to_specs\u001b[0;34m(signature, containerized)\u001b[0m\n\u001b[1;32m    261\u001b[0m \u001b[38;5;66;03m# is Output[Artifact] or OutputPath(<param>)\u001b[39;00m\n\u001b[1;32m    262\u001b[0m \u001b[38;5;28;01melif\u001b[39;00m type_annotations\u001b[38;5;241m.\u001b[39mis_artifact_wrapped_in_Output(\n\u001b[1;32m    263\u001b[0m         annotation) \u001b[38;5;129;01mor\u001b[39;00m \u001b[38;5;28misinstance\u001b[39m(annotation,\n\u001b[1;32m    264\u001b[0m                                   type_annotations\u001b[38;5;241m.\u001b[39mOutputPath):\n\u001b[1;32m    265\u001b[0m     name_to_output_specs[maybe_make_unique(\n\u001b[1;32m    266\u001b[0m         name,\n\u001b[0;32m--> 267\u001b[0m         \u001b[38;5;28mlist\u001b[39m(name_to_output_specs))] \u001b[38;5;241m=\u001b[39m \u001b[43mmake_output_spec\u001b[49m\u001b[43m(\u001b[49m\u001b[43mannotation\u001b[49m\u001b[43m)\u001b[49m\n\u001b[1;32m    269\u001b[0m \u001b[38;5;66;03m# parameter type\u001b[39;00m\n\u001b[1;32m    270\u001b[0m \u001b[38;5;28;01melse\u001b[39;00m:\n\u001b[1;32m    271\u001b[0m     type_string \u001b[38;5;241m=\u001b[39m type_utils\u001b[38;5;241m.\u001b[39m_annotation_to_type_struct(annotation)\n",
      "File \u001b[0;32m~/.local/lib/python3.10/site-packages/kfp/dsl/component_factory.py:356\u001b[0m, in \u001b[0;36mmake_output_spec\u001b[0;34m(annotation)\u001b[0m\n\u001b[1;32m    354\u001b[0m annotation \u001b[38;5;241m=\u001b[39m canonicalize_annotation(annotation)\n\u001b[1;32m    355\u001b[0m args \u001b[38;5;241m=\u001b[39m make_input_output_spec_args(annotation)\n\u001b[0;32m--> 356\u001b[0m \u001b[38;5;28;01mreturn\u001b[39;00m \u001b[43mstructures\u001b[49m\u001b[38;5;241;43m.\u001b[39;49m\u001b[43mOutputSpec\u001b[49m\u001b[43m(\u001b[49m\u001b[38;5;241;43m*\u001b[39;49m\u001b[38;5;241;43m*\u001b[39;49m\u001b[43margs\u001b[49m\u001b[43m)\u001b[49m\n",
      "File \u001b[0;32m<string>:6\u001b[0m, in \u001b[0;36m__init__\u001b[0;34m(self, type, is_artifact_list, description)\u001b[0m\n",
      "File \u001b[0;32m~/.local/lib/python3.10/site-packages/kfp/dsl/structures.py:158\u001b[0m, in \u001b[0;36mOutputSpec.__post_init__\u001b[0;34m(self)\u001b[0m\n\u001b[1;32m    157\u001b[0m \u001b[38;5;28;01mdef\u001b[39;00m \u001b[38;5;21m__post_init__\u001b[39m(\u001b[38;5;28mself\u001b[39m) \u001b[38;5;241m-\u001b[39m\u001b[38;5;241m>\u001b[39m \u001b[38;5;28;01mNone\u001b[39;00m:\n\u001b[0;32m--> 158\u001b[0m     \u001b[38;5;28;43mself\u001b[39;49m\u001b[38;5;241;43m.\u001b[39;49m\u001b[43m_validate_type\u001b[49m\u001b[43m(\u001b[49m\u001b[43m)\u001b[49m\n",
      "File \u001b[0;32m~/.local/lib/python3.10/site-packages/kfp/dsl/structures.py:219\u001b[0m, in \u001b[0;36mOutputSpec._validate_type\u001b[0;34m(self)\u001b[0m\n\u001b[1;32m    217\u001b[0m \u001b[38;5;66;03m# TODO: add transformation logic so that we don't have to transform outputs at every place they are used, including v1 back compat support\u001b[39;00m\n\u001b[1;32m    218\u001b[0m \u001b[38;5;28;01mif\u001b[39;00m \u001b[38;5;129;01mnot\u001b[39;00m spec_type_is_parameter(\u001b[38;5;28mself\u001b[39m\u001b[38;5;241m.\u001b[39mtype):\n\u001b[0;32m--> 219\u001b[0m     \u001b[43mtype_utils\u001b[49m\u001b[38;5;241;43m.\u001b[39;49m\u001b[43mvalidate_bundled_artifact_type\u001b[49m\u001b[43m(\u001b[49m\u001b[38;5;28;43mself\u001b[39;49m\u001b[38;5;241;43m.\u001b[39;49m\u001b[43mtype\u001b[49m\u001b[43m)\u001b[49m\n",
      "File \u001b[0;32m~/.local/lib/python3.10/site-packages/kfp/dsl/types/type_utils.py:544\u001b[0m, in \u001b[0;36mvalidate_bundled_artifact_type\u001b[0;34m(type_)\u001b[0m\n\u001b[1;32m    542\u001b[0m \u001b[38;5;66;03m# two parts and neither are empty strings\u001b[39;00m\n\u001b[1;32m    543\u001b[0m \u001b[38;5;28;01mif\u001b[39;00m \u001b[38;5;28mlen\u001b[39m(split_type) \u001b[38;5;241m!=\u001b[39m \u001b[38;5;241m2\u001b[39m \u001b[38;5;129;01mor\u001b[39;00m \u001b[38;5;129;01mnot\u001b[39;00m \u001b[38;5;28mall\u001b[39m(split_type):\n\u001b[0;32m--> 544\u001b[0m     \u001b[38;5;28;01mraise\u001b[39;00m \u001b[38;5;167;01mTypeError\u001b[39;00m(\n\u001b[1;32m    545\u001b[0m         \u001b[38;5;124mf\u001b[39m\u001b[38;5;124m'\u001b[39m\u001b[38;5;124mArtifacts must have both a schema_title and a schema_version, separated by `@`. Got: \u001b[39m\u001b[38;5;132;01m{\u001b[39;00mtype_\u001b[38;5;132;01m}\u001b[39;00m\u001b[38;5;124m'\u001b[39m\n\u001b[1;32m    546\u001b[0m     )\n\u001b[1;32m    547\u001b[0m schema_title, schema_version \u001b[38;5;241m=\u001b[39m split_type\n\u001b[1;32m    548\u001b[0m validate_schema_title(schema_title)\n",
      "\u001b[0;31mTypeError\u001b[0m: Artifacts must have both a schema_title and a schema_version, separated by `@`. Got: str"
     ]
    }
   ],
   "source": [
    "@component(\n",
    "    base_image=config.base_image,\n",
    "    output_component_file=\"get_and_process_data.yaml\"\n",
    ")\n",
    "def get_and_process_data():\n",
    "    \n",
    "    from src.pipelines.utils import (\n",
    "        create_table_from_df,\n",
    "        preprocess_data\n",
    "    )\n",
    "    from google.cloud import bigquery\n",
    "    \n",
    "    bq_client = bigquery.Client(location=config.region, project=config.gcp_project_id)\n",
    "    query = f\"SELECT * FROM `{config.main_table_id}`\"\n",
    "    df = bq_client.query(query).to_dataframe()\n",
    "\n",
    "    X_processed = preprocess_data(df=df, target_column_name=\"target_class\")\n",
    "\n",
    "    create_table_from_df(\n",
    "        bq_client=bq_client,\n",
    "        df=X_processed,\n",
    "        table_id=config.stg_table_id\n",
    "    )"
   ]
  },
  {
   "cell_type": "code",
   "execution_count": null,
   "metadata": {},
   "outputs": [
    {
     "name": "stderr",
     "output_type": "stream",
     "text": [
      "/tmp/ipykernel_94669/3206047095.py:1: DeprecationWarning: output_component_file parameter is deprecated and will eventually be removed. Please use `Compiler().compile()` to compile a component instead.\n",
      "  @component(\n",
      "/tmp/ipykernel_94669/3206047095.py:6: DeprecationWarning: output_component_file parameter is deprecated and will eventually be removed. Please use `Compiler().compile()` to compile a component instead.\n",
      "  def train_model():\n"
     ]
    }
   ],
   "source": [
    "@component(\n",
    "    base_image=config.base_image,\n",
    "    install_kfp_package=False,\n",
    "    output_component_file=\"train_model.yaml\",\n",
    ")\n",
    "def train_model():\n",
    "\n",
    "    import pickle\n",
    "    import tempfile\n",
    "    from google.cloud import (\n",
    "        bigquery,\n",
    "        storage\n",
    "    )\n",
    "    from datetime import datetime\n",
    "    from src.pipelines.utils import model_train\n",
    "\n",
    "    bq_client = bigquery.Client(location=config.region, project=config.gcp_project_id)\n",
    "    query = f\"SELECT * FROM `{config.stg_table_id}`\"\n",
    "    X_processed = bq_client.query(query).to_dataframe()\n",
    "\n",
    "    model = model_train(X_processed=X_processed, target_column_name=\"target_class\")\n",
    "\n",
    "    with tempfile.NamedTemporaryFile() as tmp_pickle:\n",
    "        pickle_name = datetime.now().strftime(\"%d-%m-%Y:%H%M\")\n",
    "        pickle.dump(model, tmp_pickle)\n",
    "        storage_client = storage.Client(project=config.gcp_project_id)\n",
    "        bucket = storage_client.bucket(config.gcp_bucket)\n",
    "        upload_blob = bucket.blob(f\"/models/{pickle_name}\")\n",
    "        upload_blob.upload_from_file(tmp_pickle, rewind=True)\n"
   ]
  },
  {
   "cell_type": "code",
   "execution_count": null,
   "metadata": {},
   "outputs": [],
   "source": [
    "@dsl.pipeline(\n",
    "    pipeline_root=config.pipeline_root,\n",
    "    name=\"pipeline-big-data-project\"   \n",
    ")\n",
    "\n",
    "def pipeline():\n",
    "    data_prep = get_and_process_data().set_display_name('Data preprocessing and staging')\n",
    "    model_training = train_model().after(data_prep).set_display_name('Model training')"
   ]
  },
  {
   "cell_type": "code",
   "execution_count": 4,
   "metadata": {},
   "outputs": [
    {
     "ename": "NameError",
     "evalue": "name 'pipeline' is not defined",
     "output_type": "error",
     "traceback": [
      "\u001b[0;31m---------------------------------------------------------------------------\u001b[0m",
      "\u001b[0;31mNameError\u001b[0m                                 Traceback (most recent call last)",
      "Cell \u001b[0;32mIn[4], line 1\u001b[0m\n\u001b[0;32m----> 1\u001b[0m compiler\u001b[38;5;241m.\u001b[39mCompiler()\u001b[38;5;241m.\u001b[39mcompile(pipeline_func\u001b[38;5;241m=\u001b[39m\u001b[43mpipeline\u001b[49m,\n\u001b[1;32m      2\u001b[0m         package_path\u001b[38;5;241m=\u001b[39m\u001b[38;5;124m'\u001b[39m\u001b[38;5;124mmodel_training_pipeline.json\u001b[39m\u001b[38;5;124m'\u001b[39m)\n",
      "\u001b[0;31mNameError\u001b[0m: name 'pipeline' is not defined"
     ]
    }
   ],
   "source": [
    "compiler.Compiler().compile(pipeline_func=pipeline,\n",
    "        package_path='model_training_pipeline.json')"
   ]
  },
  {
   "cell_type": "code",
   "execution_count": 7,
   "metadata": {},
   "outputs": [],
   "source": [
    "start_pipeline = pipeline_jobs.PipelineJob(\n",
    "    display_name=\"cc-project-pipeline\",\n",
    "    template_path=\"model_training_pipeline.json\",\n",
    "    enable_caching=False,\n",
    "    location=config.region,\n",
    ")"
   ]
  },
  {
   "cell_type": "code",
   "execution_count": 8,
   "metadata": {},
   "outputs": [
    {
     "name": "stdout",
     "output_type": "stream",
     "text": [
      "Creating PipelineJob\n",
      "PipelineJob created. Resource name: projects/33891971032/locations/europe-west3/pipelineJobs/pipeline-big-data-project-20240330204814\n",
      "To use this PipelineJob in another session:\n",
      "pipeline_job = aiplatform.PipelineJob.get('projects/33891971032/locations/europe-west3/pipelineJobs/pipeline-big-data-project-20240330204814')\n",
      "View Pipeline Job:\n",
      "https://console.cloud.google.com/vertex-ai/locations/europe-west3/pipelines/runs/pipeline-big-data-project-20240330204814?project=33891971032\n",
      "PipelineJob projects/33891971032/locations/europe-west3/pipelineJobs/pipeline-big-data-project-20240330204814 current state:\n",
      "PipelineState.PIPELINE_STATE_PENDING\n",
      "PipelineJob projects/33891971032/locations/europe-west3/pipelineJobs/pipeline-big-data-project-20240330204814 current state:\n",
      "PipelineState.PIPELINE_STATE_PENDING\n",
      "PipelineJob projects/33891971032/locations/europe-west3/pipelineJobs/pipeline-big-data-project-20240330204814 current state:\n",
      "PipelineState.PIPELINE_STATE_PENDING\n"
     ]
    },
    {
     "name": "stderr",
     "output_type": "stream",
     "text": [
      "Exception ignored in: <function _ChannelCallState.__del__ at 0x7f20af075510>\n",
      "Traceback (most recent call last):\n",
      "  File \"/home/telejkoi/.local/lib/python3.10/site-packages/grpc/_channel.py\", line 1717, in __del__\n",
      "    self.channel.close(\n",
      "  File \"src/python/grpcio/grpc/_cython/_cygrpc/channel.pyx.pxi\", line 542, in grpc._cython.cygrpc.Channel.close\n",
      "  File \"src/python/grpcio/grpc/_cython/_cygrpc/channel.pyx.pxi\", line 428, in grpc._cython.cygrpc._close\n",
      "  File \"src/python/grpcio/grpc/_cython/_cygrpc/channel.pyx.pxi\", line 458, in grpc._cython.cygrpc._close\n",
      "  File \"/usr/lib/python3.10/threading.py\", line 389, in notify_all\n",
      "    def notify_all(self):\n",
      "KeyboardInterrupt: \n"
     ]
    },
    {
     "name": "stdout",
     "output_type": "stream",
     "text": [
      "PipelineJob run completed. Resource name: projects/33891971032/locations/europe-west3/pipelineJobs/pipeline-big-data-project-20240330204814\n"
     ]
    }
   ],
   "source": [
    "start_pipeline.run()"
   ]
  }
 ],
 "metadata": {
  "kernelspec": {
   "display_name": "Python 3",
   "language": "python",
   "name": "python3"
  },
  "language_info": {
   "codemirror_mode": {
    "name": "ipython",
    "version": 3
   },
   "file_extension": ".py",
   "mimetype": "text/x-python",
   "name": "python",
   "nbconvert_exporter": "python",
   "pygments_lexer": "ipython3",
   "version": "3.10.12"
  }
 },
 "nbformat": 4,
 "nbformat_minor": 2
}
