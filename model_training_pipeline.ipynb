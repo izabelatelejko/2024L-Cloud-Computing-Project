{
 "cells": [
  {
   "cell_type": "code",
   "execution_count": 8,
   "metadata": {},
   "outputs": [],
   "source": [
    "from kfp.v2 import dsl\n",
    "from kfp.v2.dsl import (Artifact,\n",
    "                        Dataset,\n",
    "                        Input,\n",
    "                        Output,\n",
    "                        Model,\n",
    "                        Metrics,\n",
    "                        Markdown,\n",
    "                        HTML,\n",
    "                        component, \n",
    "                        OutputPath, \n",
    "                        InputPath)\n",
    "\n",
    "from kfp.v2 import compiler\n",
    "from google.cloud.aiplatform import pipeline_jobs\n",
    "\n",
    "from src.config.gcp_config import load_config"
   ]
  },
  {
   "cell_type": "code",
   "execution_count": 9,
   "metadata": {},
   "outputs": [],
   "source": [
    "config = load_config()"
   ]
  },
  {
   "cell_type": "code",
   "execution_count": 56,
   "metadata": {},
   "outputs": [
    {
     "name": "stderr",
     "output_type": "stream",
     "text": [
      "/tmp/ipykernel_49039/2125411088.py:1: DeprecationWarning: output_component_file parameter is deprecated and will eventually be removed. Please use `Compiler().compile()` to compile a component instead.\n",
      "  @component(\n",
      "/tmp/ipykernel_49039/2125411088.py:5: DeprecationWarning: output_component_file parameter is deprecated and will eventually be removed. Please use `Compiler().compile()` to compile a component instead.\n",
      "  def get_test_data(\n"
     ]
    }
   ],
   "source": [
    "@component(\n",
    "    base_image=config.base_image,\n",
    "    output_component_file=\"get_and_process_data.yaml\"\n",
    ")\n",
    "def get_and_process_data():\n",
    "    \n",
    "    from src.pipelines.utils import (\n",
    "        create_table_from_df,\n",
    "        preprocess_data\n",
    "    )\n",
    "    from google.cloud import bigquery\n",
    "    \n",
    "    bq_client = bigquery.Client(location=config.region, project=config.gcp_project_id)\n",
    "    query = f\"SELECT * FROM `{config.main_table_id}`\"\n",
    "    df = bq_client.query(query).to_dataframe()\n",
    "\n",
    "    X_processed = preprocess_data(df=df, target_column_name=\"target_class\")\n",
    "\n",
    "    create_table_from_df(\n",
    "        bq_client=bq_client,\n",
    "        df=X_processed,\n",
    "        table_id=config.stg_table_id,\n",
    "        write_disposition=\"WRITE_TRUNCATE\"\n",
    "    )"
   ]
  },
  {
   "cell_type": "code",
   "execution_count": 57,
   "metadata": {},
   "outputs": [
    {
     "name": "stderr",
     "output_type": "stream",
     "text": [
      "/tmp/ipykernel_49039/2690065538.py:1: DeprecationWarning: output_component_file parameter is deprecated and will eventually be removed. Please use `Compiler().compile()` to compile a component instead.\n",
      "  @component(\n",
      "/tmp/ipykernel_49039/2690065538.py:6: DeprecationWarning: output_component_file parameter is deprecated and will eventually be removed. Please use `Compiler().compile()` to compile a component instead.\n",
      "  def save_file(\n"
     ]
    }
   ],
   "source": [
    "@component(\n",
    "    base_image=config.base_image,\n",
    "    install_kfp_package=False,\n",
    "    output_component_file=\"train_model.yaml\",\n",
    ")\n",
    "def train_model():\n",
    "\n",
    "    import pickle\n",
    "    import tempfile\n",
    "    from google.cloud import (\n",
    "        bigquery,\n",
    "        storage\n",
    "    )\n",
    "    from datetime import datetime\n",
    "    from src.pipelines.utils import model_train\n",
    "\n",
    "    bq_client = bigquery.Client(location=config.region, project=config.gcp_project_id)\n",
    "    query = f\"SELECT * FROM `{config.stg_table_id}`\"\n",
    "    X_processed = bq_client.query(query).to_dataframe()\n",
    "\n",
    "    model = model_train(X_processed=X_processed, target_column_name=\"target_class\")\n",
    "\n",
    "    with tempfile.NamedTemporaryFile() as tmp_pickle:\n",
    "        pickle_name = datetime.now().strftime(\"%d-%m-%Y:%H%M\")\n",
    "        pickle.dump(model, tmp_pickle)\n",
    "        storage_client = storage.Client(project=config.gcp_project_id)\n",
    "        bucket = storage_client.bucket(config.gcp_bucket)\n",
    "        upload_blob = bucket.blob(f\"/models/{pickle_name}\")\n",
    "        upload_blob.upload_from_file(tmp_pickle, rewind=True)\n"
   ]
  },
  {
   "cell_type": "code",
   "execution_count": 59,
   "metadata": {},
   "outputs": [],
   "source": [
    "@dsl.pipeline(\n",
    "    pipeline_root=config.pipeline_root,\n",
    "    name=\"pipeline-big-data-project\"   \n",
    ")\n",
    "\n",
    "def pipeline():\n",
    "\n",
    "    data_prep = get_and_process_data()\n",
    "    model_training = train_model()"
   ]
  },
  {
   "cell_type": "code",
   "execution_count": 60,
   "metadata": {},
   "outputs": [],
   "source": [
    "compiler.Compiler().compile(pipeline_func=pipeline,\n",
    "        package_path='model_training_pipeline.json')"
   ]
  },
  {
   "cell_type": "code",
   "execution_count": 61,
   "metadata": {},
   "outputs": [],
   "source": [
    "start_pipeline = pipeline_jobs.PipelineJob(\n",
    "    display_name=\"cc-project-pipeline\",\n",
    "    template_path=\"model_training_pipeline.json\",\n",
    "    enable_caching=False,\n",
    "    location=config.region,\n",
    ")"
   ]
  },
  {
   "cell_type": "code",
   "execution_count": 62,
   "metadata": {},
   "outputs": [
    {
     "name": "stdout",
     "output_type": "stream",
     "text": [
      "Creating PipelineJob\n",
      "PipelineJob created. Resource name: projects/502842367035/locations/europe-west3/pipelineJobs/pipeline-houseprice-20240328212516\n",
      "To use this PipelineJob in another session:\n",
      "pipeline_job = aiplatform.PipelineJob.get('projects/502842367035/locations/europe-west3/pipelineJobs/pipeline-houseprice-20240328212516')\n",
      "View Pipeline Job:\n",
      "https://console.cloud.google.com/vertex-ai/locations/europe-west3/pipelines/runs/pipeline-houseprice-20240328212516?project=502842367035\n",
      "PipelineJob projects/502842367035/locations/europe-west3/pipelineJobs/pipeline-houseprice-20240328212516 current state:\n",
      "PipelineState.PIPELINE_STATE_RUNNING\n",
      "PipelineJob projects/502842367035/locations/europe-west3/pipelineJobs/pipeline-houseprice-20240328212516 current state:\n",
      "PipelineState.PIPELINE_STATE_RUNNING\n",
      "PipelineJob projects/502842367035/locations/europe-west3/pipelineJobs/pipeline-houseprice-20240328212516 current state:\n",
      "PipelineState.PIPELINE_STATE_RUNNING\n",
      "PipelineJob run completed. Resource name: projects/502842367035/locations/europe-west3/pipelineJobs/pipeline-houseprice-20240328212516\n"
     ]
    }
   ],
   "source": [
    "start_pipeline.run()"
   ]
  }
 ],
 "metadata": {
  "kernelspec": {
   "display_name": "Python 3",
   "language": "python",
   "name": "python3"
  },
  "language_info": {
   "codemirror_mode": {
    "name": "ipython",
    "version": 3
   },
   "file_extension": ".py",
   "mimetype": "text/x-python",
   "name": "python",
   "nbconvert_exporter": "python",
   "pygments_lexer": "ipython3",
   "version": "3.10.12"
  }
 },
 "nbformat": 4,
 "nbformat_minor": 2
}
