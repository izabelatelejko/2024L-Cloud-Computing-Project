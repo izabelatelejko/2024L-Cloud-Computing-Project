{
 "cells": [
  {
   "cell_type": "code",
   "execution_count": 106,
   "metadata": {},
   "outputs": [],
   "source": [
    "import pandas as pd\n",
    "import numpy as np\n",
    "\n",
    "from sklearn.ensemble import RandomForestClassifier\n",
    "from sklearn.model_selection import train_test_split\n",
    "from sklearn.metrics import balanced_accuracy_score\n",
    "\n",
    "import pickle\n",
    "import tempfile"
   ]
  },
  {
   "cell_type": "code",
   "execution_count": 64,
   "metadata": {},
   "outputs": [],
   "source": [
    "def remove_highly_correlated_features(df, threshold=0.9):\n",
    "    corr_matrix = df.corr().abs()\n",
    "    upper = corr_matrix.where(np.triu(np.ones(corr_matrix.shape), k=1).astype(bool))\n",
    "    to_drop = [column for column in upper.columns if any(upper[column] > threshold)]\n",
    "    return to_drop\n",
    "\n",
    "def remove_constant_features(df):\n",
    "    return [column for column in df.columns if df[column].nunique() == 1]\n",
    "\n",
    "def standarise_float_columns(df):\n",
    "    for column in df.columns:\n",
    "        if df[column].dtype == 'float64':\n",
    "            df[column] = (df[column] - df[column].mean()) / df[column].std()\n",
    "    return df\n",
    "\n",
    "def normalise_int_columns(df):\n",
    "    for column in df.columns:\n",
    "        if df[column].dtype == 'int64':\n",
    "            df[column] = (df[column] - df[column].min()) / (df[column].max() - df[column].min())\n",
    "    return df"
   ]
  },
  {
   "cell_type": "code",
   "execution_count": 68,
   "metadata": {},
   "outputs": [],
   "source": [
    "df = pd.read_csv('ecom-user-churn-data.csv')\n",
    "y = df['target_class']\n",
    "X = df.drop(columns=['target_class'])"
   ]
  },
  {
   "cell_type": "code",
   "execution_count": 75,
   "metadata": {},
   "outputs": [],
   "source": [
    "X_processed = X.drop(remove_highly_correlated_features(df, threshold=0.7), axis=1)\n",
    "X_processed = X_processed.drop(['visitorid'], axis=1)\n",
    "X_processed = X_processed.drop(remove_constant_features(X_processed), axis=1)\n",
    "X_processed = standarise_float_columns(X_processed)\n",
    "X_processed = normalise_int_columns(X_processed)"
   ]
  },
  {
   "cell_type": "code",
   "execution_count": 104,
   "metadata": {},
   "outputs": [],
   "source": [
    "X_train, X_test, y_train, y_test = train_test_split(X_processed, y, test_size=0.3, random_state=42)"
   ]
  },
  {
   "cell_type": "code",
   "execution_count": 105,
   "metadata": {},
   "outputs": [
    {
     "name": "stdout",
     "output_type": "stream",
     "text": [
      "0.7362500259440399\n",
      "0.6754106189816068\n"
     ]
    }
   ],
   "source": [
    "clf = RandomForestClassifier(max_depth=10, random_state=42, n_estimators=100, class_weight='balanced')\n",
    "clf.fit(X_train, y_train)\n",
    "print(balanced_accuracy_score(y_train, clf.predict(X_train)))\n",
    "print(balanced_accuracy_score(y_test, clf.predict(X_test)))"
   ]
  },
  {
   "cell_type": "code",
   "execution_count": 108,
   "metadata": {},
   "outputs": [],
   "source": [
    "with tempfile.NamedTemporaryFile(suffix='.pkl', delete=False) as tmp:\n",
    "    pickle.dump(clf, tmp)\n",
    "    tmp_name = tmp.name"
   ]
  }
 ],
 "metadata": {
  "kernelspec": {
   "display_name": "Python 3",
   "language": "python",
   "name": "python3"
  },
  "language_info": {
   "codemirror_mode": {
    "name": "ipython",
    "version": 3
   },
   "file_extension": ".py",
   "mimetype": "text/x-python",
   "name": "python",
   "nbconvert_exporter": "python",
   "pygments_lexer": "ipython3",
   "version": "3.11.2"
  }
 },
 "nbformat": 4,
 "nbformat_minor": 2
}
